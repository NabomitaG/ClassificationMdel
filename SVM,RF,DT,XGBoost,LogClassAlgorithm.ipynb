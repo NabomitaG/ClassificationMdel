{
  "nbformat": 4,
  "nbformat_minor": 0,
  "metadata": {
    "colab": {
      "provenance": []
    },
    "kernelspec": {
      "name": "python3",
      "display_name": "Python 3"
    },
    "language_info": {
      "name": "python"
    }
  },
  "cells": [
    {
      "cell_type": "code",
      "execution_count": null,
      "metadata": {
        "id": "EGsTkwbhW86S"
      },
      "outputs": [],
      "source": [
        " import pandas as pd \n",
        "import numpy as np\n",
        "import seaborn as s\n",
        "import matplotlib.pyplot as plt\n",
        "from sklearn.preprocessing import LabelEncoder\n",
        "from sklearn.model_selection import train_test_split"
      ]
    },
    {
      "cell_type": "code",
      "source": [
        "#df = pd.read_csv(r'/content/cancer-data_w8r0x.csv')\n",
        "df = pd.read_csv('/content/regression_sal_s25zf.csv', encoding = 'ISO-8859-1')\n",
        "\n",
        "df.head()"
      ],
      "metadata": {
        "colab": {
          "base_uri": "https://localhost:8080/",
          "height": 236
        },
        "id": "OyHvovMDZGAS",
        "outputId": "1dfb2d06-348f-4bc5-90bd-f0bcced4c4b8"
      },
      "execution_count": null,
      "outputs": [
        {
          "output_type": "execute_result",
          "data": {
            "text/plain": [
              "    Salary      Born          City Pr/St Cntry  Nat  Ht   Wt   DftYr  DftRd  \\\n",
              "0   925000  97-01-30  Sainte-Marie    QC   CAN  CAN  74  190  2015.0    1.0   \n",
              "1  2250000  93-12-21        Ottawa    ON   CAN  CAN  74  207  2012.0    1.0   \n",
              "2  8000000  88-04-16      St. Paul    MN   USA  USA  72  218  2006.0    1.0   \n",
              "3  3500000  92-01-07        Ottawa    ON   CAN  CAN  77  220  2010.0    1.0   \n",
              "4  1750000  94-03-29       Toronto    ON   CAN  CAN  76  217  2012.0    1.0   \n",
              "\n",
              "   ...  PEND  OPS  DPS   PS     OTOI Grit   DAP   Pace    GS  GS/G  \n",
              "0  ...   1.0  0.0 -0.2 -0.2    40.03    1   0.0  175.7  -0.4 -0.38  \n",
              "1  ...  98.0 -0.2  3.4  3.2  2850.59  290  13.3  112.5  14.1  0.18  \n",
              "2  ...  70.0  3.7  1.3  5.0  2486.75  102   6.6  114.8  36.8  0.57  \n",
              "3  ...  22.0  0.0  0.4  0.5  1074.41  130  17.5  105.1   5.9  0.20  \n",
              "4  ...  68.0 -0.1  1.4  1.3  3459.09  425   8.3   99.5  21.8  0.27  \n",
              "\n",
              "[5 rows x 154 columns]"
            ],
            "text/html": [
              "\n",
              "  <div id=\"df-aa72f3a9-51c0-4357-a51b-25cce27eb704\">\n",
              "    <div class=\"colab-df-container\">\n",
              "      <div>\n",
              "<style scoped>\n",
              "    .dataframe tbody tr th:only-of-type {\n",
              "        vertical-align: middle;\n",
              "    }\n",
              "\n",
              "    .dataframe tbody tr th {\n",
              "        vertical-align: top;\n",
              "    }\n",
              "\n",
              "    .dataframe thead th {\n",
              "        text-align: right;\n",
              "    }\n",
              "</style>\n",
              "<table border=\"1\" class=\"dataframe\">\n",
              "  <thead>\n",
              "    <tr style=\"text-align: right;\">\n",
              "      <th></th>\n",
              "      <th>Salary</th>\n",
              "      <th>Born</th>\n",
              "      <th>City</th>\n",
              "      <th>Pr/St</th>\n",
              "      <th>Cntry</th>\n",
              "      <th>Nat</th>\n",
              "      <th>Ht</th>\n",
              "      <th>Wt</th>\n",
              "      <th>DftYr</th>\n",
              "      <th>DftRd</th>\n",
              "      <th>...</th>\n",
              "      <th>PEND</th>\n",
              "      <th>OPS</th>\n",
              "      <th>DPS</th>\n",
              "      <th>PS</th>\n",
              "      <th>OTOI</th>\n",
              "      <th>Grit</th>\n",
              "      <th>DAP</th>\n",
              "      <th>Pace</th>\n",
              "      <th>GS</th>\n",
              "      <th>GS/G</th>\n",
              "    </tr>\n",
              "  </thead>\n",
              "  <tbody>\n",
              "    <tr>\n",
              "      <th>0</th>\n",
              "      <td>925000</td>\n",
              "      <td>97-01-30</td>\n",
              "      <td>Sainte-Marie</td>\n",
              "      <td>QC</td>\n",
              "      <td>CAN</td>\n",
              "      <td>CAN</td>\n",
              "      <td>74</td>\n",
              "      <td>190</td>\n",
              "      <td>2015.0</td>\n",
              "      <td>1.0</td>\n",
              "      <td>...</td>\n",
              "      <td>1.0</td>\n",
              "      <td>0.0</td>\n",
              "      <td>-0.2</td>\n",
              "      <td>-0.2</td>\n",
              "      <td>40.03</td>\n",
              "      <td>1</td>\n",
              "      <td>0.0</td>\n",
              "      <td>175.7</td>\n",
              "      <td>-0.4</td>\n",
              "      <td>-0.38</td>\n",
              "    </tr>\n",
              "    <tr>\n",
              "      <th>1</th>\n",
              "      <td>2250000</td>\n",
              "      <td>93-12-21</td>\n",
              "      <td>Ottawa</td>\n",
              "      <td>ON</td>\n",
              "      <td>CAN</td>\n",
              "      <td>CAN</td>\n",
              "      <td>74</td>\n",
              "      <td>207</td>\n",
              "      <td>2012.0</td>\n",
              "      <td>1.0</td>\n",
              "      <td>...</td>\n",
              "      <td>98.0</td>\n",
              "      <td>-0.2</td>\n",
              "      <td>3.4</td>\n",
              "      <td>3.2</td>\n",
              "      <td>2850.59</td>\n",
              "      <td>290</td>\n",
              "      <td>13.3</td>\n",
              "      <td>112.5</td>\n",
              "      <td>14.1</td>\n",
              "      <td>0.18</td>\n",
              "    </tr>\n",
              "    <tr>\n",
              "      <th>2</th>\n",
              "      <td>8000000</td>\n",
              "      <td>88-04-16</td>\n",
              "      <td>St. Paul</td>\n",
              "      <td>MN</td>\n",
              "      <td>USA</td>\n",
              "      <td>USA</td>\n",
              "      <td>72</td>\n",
              "      <td>218</td>\n",
              "      <td>2006.0</td>\n",
              "      <td>1.0</td>\n",
              "      <td>...</td>\n",
              "      <td>70.0</td>\n",
              "      <td>3.7</td>\n",
              "      <td>1.3</td>\n",
              "      <td>5.0</td>\n",
              "      <td>2486.75</td>\n",
              "      <td>102</td>\n",
              "      <td>6.6</td>\n",
              "      <td>114.8</td>\n",
              "      <td>36.8</td>\n",
              "      <td>0.57</td>\n",
              "    </tr>\n",
              "    <tr>\n",
              "      <th>3</th>\n",
              "      <td>3500000</td>\n",
              "      <td>92-01-07</td>\n",
              "      <td>Ottawa</td>\n",
              "      <td>ON</td>\n",
              "      <td>CAN</td>\n",
              "      <td>CAN</td>\n",
              "      <td>77</td>\n",
              "      <td>220</td>\n",
              "      <td>2010.0</td>\n",
              "      <td>1.0</td>\n",
              "      <td>...</td>\n",
              "      <td>22.0</td>\n",
              "      <td>0.0</td>\n",
              "      <td>0.4</td>\n",
              "      <td>0.5</td>\n",
              "      <td>1074.41</td>\n",
              "      <td>130</td>\n",
              "      <td>17.5</td>\n",
              "      <td>105.1</td>\n",
              "      <td>5.9</td>\n",
              "      <td>0.20</td>\n",
              "    </tr>\n",
              "    <tr>\n",
              "      <th>4</th>\n",
              "      <td>1750000</td>\n",
              "      <td>94-03-29</td>\n",
              "      <td>Toronto</td>\n",
              "      <td>ON</td>\n",
              "      <td>CAN</td>\n",
              "      <td>CAN</td>\n",
              "      <td>76</td>\n",
              "      <td>217</td>\n",
              "      <td>2012.0</td>\n",
              "      <td>1.0</td>\n",
              "      <td>...</td>\n",
              "      <td>68.0</td>\n",
              "      <td>-0.1</td>\n",
              "      <td>1.4</td>\n",
              "      <td>1.3</td>\n",
              "      <td>3459.09</td>\n",
              "      <td>425</td>\n",
              "      <td>8.3</td>\n",
              "      <td>99.5</td>\n",
              "      <td>21.8</td>\n",
              "      <td>0.27</td>\n",
              "    </tr>\n",
              "  </tbody>\n",
              "</table>\n",
              "<p>5 rows × 154 columns</p>\n",
              "</div>\n",
              "      <button class=\"colab-df-convert\" onclick=\"convertToInteractive('df-aa72f3a9-51c0-4357-a51b-25cce27eb704')\"\n",
              "              title=\"Convert this dataframe to an interactive table.\"\n",
              "              style=\"display:none;\">\n",
              "        \n",
              "  <svg xmlns=\"http://www.w3.org/2000/svg\" height=\"24px\"viewBox=\"0 0 24 24\"\n",
              "       width=\"24px\">\n",
              "    <path d=\"M0 0h24v24H0V0z\" fill=\"none\"/>\n",
              "    <path d=\"M18.56 5.44l.94 2.06.94-2.06 2.06-.94-2.06-.94-.94-2.06-.94 2.06-2.06.94zm-11 1L8.5 8.5l.94-2.06 2.06-.94-2.06-.94L8.5 2.5l-.94 2.06-2.06.94zm10 10l.94 2.06.94-2.06 2.06-.94-2.06-.94-.94-2.06-.94 2.06-2.06.94z\"/><path d=\"M17.41 7.96l-1.37-1.37c-.4-.4-.92-.59-1.43-.59-.52 0-1.04.2-1.43.59L10.3 9.45l-7.72 7.72c-.78.78-.78 2.05 0 2.83L4 21.41c.39.39.9.59 1.41.59.51 0 1.02-.2 1.41-.59l7.78-7.78 2.81-2.81c.8-.78.8-2.07 0-2.86zM5.41 20L4 18.59l7.72-7.72 1.47 1.35L5.41 20z\"/>\n",
              "  </svg>\n",
              "      </button>\n",
              "      \n",
              "  <style>\n",
              "    .colab-df-container {\n",
              "      display:flex;\n",
              "      flex-wrap:wrap;\n",
              "      gap: 12px;\n",
              "    }\n",
              "\n",
              "    .colab-df-convert {\n",
              "      background-color: #E8F0FE;\n",
              "      border: none;\n",
              "      border-radius: 50%;\n",
              "      cursor: pointer;\n",
              "      display: none;\n",
              "      fill: #1967D2;\n",
              "      height: 32px;\n",
              "      padding: 0 0 0 0;\n",
              "      width: 32px;\n",
              "    }\n",
              "\n",
              "    .colab-df-convert:hover {\n",
              "      background-color: #E2EBFA;\n",
              "      box-shadow: 0px 1px 2px rgba(60, 64, 67, 0.3), 0px 1px 3px 1px rgba(60, 64, 67, 0.15);\n",
              "      fill: #174EA6;\n",
              "    }\n",
              "\n",
              "    [theme=dark] .colab-df-convert {\n",
              "      background-color: #3B4455;\n",
              "      fill: #D2E3FC;\n",
              "    }\n",
              "\n",
              "    [theme=dark] .colab-df-convert:hover {\n",
              "      background-color: #434B5C;\n",
              "      box-shadow: 0px 1px 3px 1px rgba(0, 0, 0, 0.15);\n",
              "      filter: drop-shadow(0px 1px 2px rgba(0, 0, 0, 0.3));\n",
              "      fill: #FFFFFF;\n",
              "    }\n",
              "  </style>\n",
              "\n",
              "      <script>\n",
              "        const buttonEl =\n",
              "          document.querySelector('#df-aa72f3a9-51c0-4357-a51b-25cce27eb704 button.colab-df-convert');\n",
              "        buttonEl.style.display =\n",
              "          google.colab.kernel.accessAllowed ? 'block' : 'none';\n",
              "\n",
              "        async function convertToInteractive(key) {\n",
              "          const element = document.querySelector('#df-aa72f3a9-51c0-4357-a51b-25cce27eb704');\n",
              "          const dataTable =\n",
              "            await google.colab.kernel.invokeFunction('convertToInteractive',\n",
              "                                                     [key], {});\n",
              "          if (!dataTable) return;\n",
              "\n",
              "          const docLinkHtml = 'Like what you see? Visit the ' +\n",
              "            '<a target=\"_blank\" href=https://colab.research.google.com/notebooks/data_table.ipynb>data table notebook</a>'\n",
              "            + ' to learn more about interactive tables.';\n",
              "          element.innerHTML = '';\n",
              "          dataTable['output_type'] = 'display_data';\n",
              "          await google.colab.output.renderOutput(dataTable, element);\n",
              "          const docLink = document.createElement('div');\n",
              "          docLink.innerHTML = docLinkHtml;\n",
              "          element.appendChild(docLink);\n",
              "        }\n",
              "      </script>\n",
              "    </div>\n",
              "  </div>\n",
              "  "
            ]
          },
          "metadata": {},
          "execution_count": 110
        }
      ]
    },
    {
      "cell_type": "markdown",
      "source": [
        "**Data cleaning**"
      ],
      "metadata": {
        "id": "jEl_WmtPZZeh"
      }
    },
    {
      "cell_type": "code",
      "source": [
        "df.isnull().sum()"
      ],
      "metadata": {
        "id": "rqM3_gZdZXoq",
        "colab": {
          "base_uri": "https://localhost:8080/"
        },
        "outputId": "e8f0ca3d-3c9c-4088-bd55-f9f7eaebd186"
      },
      "execution_count": null,
      "outputs": [
        {
          "output_type": "execute_result",
          "data": {
            "text/plain": [
              "Salary      0\n",
              "Born        0\n",
              "City        0\n",
              "Pr/St     153\n",
              "Cntry       0\n",
              "         ... \n",
              "Grit        0\n",
              "DAP         0\n",
              "Pace        1\n",
              "GS          1\n",
              "GS/G        2\n",
              "Length: 154, dtype: int64"
            ]
          },
          "metadata": {},
          "execution_count": 111
        }
      ]
    },
    {
      "cell_type": "code",
      "source": [
        "df.drop(['Unnamed: 32'],axis=1, inplace=True)\n",
        "\n",
        "df.head()"
      ],
      "metadata": {
        "id": "LwK5fEdbZfIS"
      },
      "execution_count": null,
      "outputs": []
    },
    {
      "cell_type": "code",
      "source": [
        "df.isnull().sum()"
      ],
      "metadata": {
        "id": "PT6dd-mAZm0C"
      },
      "execution_count": null,
      "outputs": []
    },
    {
      "cell_type": "code",
      "source": [
        "df.shape"
      ],
      "metadata": {
        "id": "yQS4vzGfZxED"
      },
      "execution_count": null,
      "outputs": []
    },
    {
      "cell_type": "code",
      "source": [
        "print(\"Before:\",df.shape)\n",
        "df.duplicated(keep='first')\n",
        "print(\"Afer:\",df.shape)"
      ],
      "metadata": {
        "id": "LDirAA1qZ1Gq"
      },
      "execution_count": null,
      "outputs": []
    },
    {
      "cell_type": "code",
      "source": [
        "df['diagnosis'].value_counts()"
      ],
      "metadata": {
        "id": "fhiqlp8yZ5Ey"
      },
      "execution_count": null,
      "outputs": []
    },
    {
      "cell_type": "code",
      "source": [
        "df.describe()"
      ],
      "metadata": {
        "id": "Gi_pO4GuZ-d6"
      },
      "execution_count": null,
      "outputs": []
    },
    {
      "cell_type": "code",
      "source": [
        "df.drop(['id'],axis=1, inplace=True)"
      ],
      "metadata": {
        "id": "PcamlCt5aF_L"
      },
      "execution_count": null,
      "outputs": []
    },
    {
      "cell_type": "code",
      "source": [
        "df.head()"
      ],
      "metadata": {
        "id": "Eg9MJSRNaMMi"
      },
      "execution_count": null,
      "outputs": []
    },
    {
      "cell_type": "code",
      "source": [
        "plt.figure()\n",
        "plt.rcParams['figure.figsize']=(10,5)\n",
        "f, (ax1, ax2, ax3, ax4, ax5) = plt.subplots(1,5)\n",
        "s.boxplot('diagnosis',y='radius_mean',data=df, ax=ax1)\n",
        "s.boxplot('diagnosis',y='texture_mean',data=df, ax=ax2)\n",
        "s.boxplot('diagnosis',y='perimeter_mean',data=df, ax=ax3)\n",
        "s.boxplot('diagnosis',y='area_mean',data=df, ax=ax4)\n",
        "s.boxplot('diagnosis',y='smoothness_mean',data=df, ax=ax5)\n",
        "f.tight_layout()\n",
        "\n",
        "f, (ax1, ax2, ax3, ax4, ax5) = plt.subplots(1,5)\n",
        "s.boxplot('diagnosis',y='compactness_mean',data=df, ax=ax2)\n",
        "s.boxplot('diagnosis',y='concavity_mean',data=df, ax=ax1)\n",
        "s.boxplot('diagnosis',y='concave points_mean',data=df, ax=ax3)\n",
        "s.boxplot('diagnosis',y='symmetry_mean',data=df, ax=ax4)\n",
        "s.boxplot('diagnosis',y='fractal_dimension_mean',data=df, ax=ax5)    \n",
        "f.tight_layout()"
      ],
      "metadata": {
        "id": "mx35h0O5aQAC"
      },
      "execution_count": null,
      "outputs": []
    },
    {
      "cell_type": "code",
      "source": [
        "plt.figure(figsize=(45, 10))\n",
        "# define the mask to set the values in the upper triangle to True\n",
        "mask = np.triu(np.ones_like(df.corr(), dtype=np.bool))\n",
        "heatmap = s.heatmap(df.corr(), mask=mask, vmin=-1, vmax=1, annot=True, cmap='BrBG')\n",
        "heatmap.set_title('Triangle Correlation Heatmap', fontdict={'fontsize': 8}, pad=16);"
      ],
      "metadata": {
        "id": "ezRRd8H1aUCs"
      },
      "execution_count": null,
      "outputs": []
    },
    {
      "cell_type": "code",
      "source": [
        "plt.rcParams['figure.figsize']=(15,15)\n",
        "s.set(font_scale=1.4)\n",
        "s.heatmap(df.drop('diagnosis', axis=1).corr(), cmap='coolwarm')"
      ],
      "metadata": {
        "id": "EA3obH44bWc6"
      },
      "execution_count": null,
      "outputs": []
    },
    {
      "cell_type": "code",
      "source": [
        "df.drop(['perimeter_mean'],axis=1, inplace=True)\n",
        "df.drop(['perimeter_worst'],axis=1, inplace=True)\n",
        "df.drop(['perimeter_se'],axis=1, inplace=True)\n",
        "\n",
        "df.drop(['area_mean'],axis=1, inplace=True)\n",
        "df.drop(['area_se'],axis=1, inplace=True)\n",
        "df.drop(['area_worst'],axis=1, inplace=True)"
      ],
      "metadata": {
        "id": "8MnCddGec59y"
      },
      "execution_count": null,
      "outputs": []
    },
    {
      "cell_type": "code",
      "source": [
        "plt.rcParams['figure.figsize']=(10,10)\n",
        "s.set(font_scale=1.4)\n",
        "s.heatmap(df.drop('diagnosis', axis=1).corr(), cmap='coolwarm')"
      ],
      "metadata": {
        "id": "VnszsQIMc5t6"
      },
      "execution_count": null,
      "outputs": []
    },
    {
      "cell_type": "markdown",
      "source": [
        "**Outliers Removal Process**"
      ],
      "metadata": {
        "id": "6TdhlTnln8_d"
      }
    },
    {
      "cell_type": "code",
      "source": [
        "X = df.drop(['diagnosis'],axis=1)\n",
        "y = df['diagnosis']"
      ],
      "metadata": {
        "id": "4pXdH5_XdYpS"
      },
      "execution_count": null,
      "outputs": []
    },
    {
      "cell_type": "code",
      "source": [
        "le = LabelEncoder()\n",
        "le.fit(y)\n",
        "y = le.transform(y)\n",
        "# convert numpy array into pandas series or dataframe\n",
        "y = pd.DataFrame(y)"
      ],
      "metadata": {
        "id": "KeWUMsbKdfcz"
      },
      "execution_count": null,
      "outputs": []
    },
    {
      "cell_type": "code",
      "source": [
        "X_train,X_test,y_train,y_test = train_test_split(X,y, test_size = 0.2,random_state = 23)"
      ],
      "metadata": {
        "id": "Ky9SsxhRdt1c"
      },
      "execution_count": null,
      "outputs": []
    },
    {
      "cell_type": "code",
      "source": [
        "print(X_train.shape)\n",
        "print(y_train.shape)"
      ],
      "metadata": {
        "id": "KYP4jQZKdwLq"
      },
      "execution_count": null,
      "outputs": []
    },
    {
      "cell_type": "markdown",
      "source": [
        "**UnderSampling**"
      ],
      "metadata": {
        "id": "H5WjarwKY0Ql"
      }
    },
    {
      "cell_type": "code",
      "source": [
        "from imblearn.under_sampling import NearMiss\n",
        "sm =NearMiss()\n",
        "X_res , Y_res = sm.fit_resample(X,y)\n",
        "#pd.Series(Y_res).value_counts()"
      ],
      "metadata": {
        "id": "KBoK3MxyY2tF"
      },
      "execution_count": null,
      "outputs": []
    },
    {
      "cell_type": "code",
      "source": [
        "X_res.shape,X.shape"
      ],
      "metadata": {
        "id": "Hf7TWSPxZWQN"
      },
      "execution_count": null,
      "outputs": []
    },
    {
      "cell_type": "code",
      "source": [
        "from sklearn.neighbors import KNeighborsClassifier  \n",
        "classifier= KNeighborsClassifier(n_neighbors=5, metric='minkowski', p=2 )  \n",
        "classifier.fit(X_res, Y_res)  \n",
        "y_pred= classifier.predict(X_test)  \n",
        "from sklearn.metrics import confusion_matrix  \n",
        "cm= confusion_matrix(y_test, y_pred)  \n",
        "acc_sc = accuracy_score(y_test, y_pred)\n",
        "f1_sc=  f1_score(y_test, y_pred)\n",
        "re_sc = recall_score(y_test, y_pred)\n",
        "pr_sc = precision_score(y_test, y_pred)\n",
        "print(\"Recall :\", re_sc)\n",
        "print(\"Precision :\", pr_sc)\n",
        "print(\"F1 Score : \", f1_sc)\n",
        "print(\"Accuracy:\",acc_sc)"
      ],
      "metadata": {
        "id": "qn4YtNxXdimO"
      },
      "execution_count": null,
      "outputs": []
    },
    {
      "cell_type": "markdown",
      "source": [
        "**OverSample** (execute which one is needed)"
      ],
      "metadata": {
        "id": "Gwg2Bl8hamt4"
      }
    },
    {
      "cell_type": "code",
      "source": [
        "from imblearn.over_sampling import SMOTE\n",
        "sm =SMOTE(random_state=42)\n",
        "X_res_OS , Y_res_OS = sm.fit_resample(X,y)"
      ],
      "metadata": {
        "id": "JbtrZ8q3asaF"
      },
      "execution_count": null,
      "outputs": []
    },
    {
      "cell_type": "code",
      "source": [
        "from sklearn.neighbors import KNeighborsClassifier  \n",
        "classifier= KNeighborsClassifier(n_neighbors=5, metric='minkowski', p=2 )  \n",
        "classifier.fit(X_res_OS, Y_res_OS)  \n",
        "y_pred= classifier.predict(X_test)  \n",
        "from sklearn.metrics import confusion_matrix  \n",
        "cm= confusion_matrix(y_test, y_pred)  \n",
        "acc_sc = accuracy_score(y_test, y_pred)\n",
        "f1_sc=  f1_score(y_test, y_pred)\n",
        "re_sc = recall_score(y_test, y_pred)\n",
        "pr_sc = precision_score(y_test, y_pred)\n",
        "print(\"Recall :\", re_sc)\n",
        "print(\"Precision :\", pr_sc)\n",
        "print(\"F1 Score : \", f1_sc)\n",
        "print(\"Accuracy:\",acc_sc)"
      ],
      "metadata": {
        "id": "YHksh0una0bV"
      },
      "execution_count": null,
      "outputs": []
    },
    {
      "cell_type": "markdown",
      "source": [
        "**Logistic Regression**"
      ],
      "metadata": {
        "id": "J2P5dagJd6NT"
      }
    },
    {
      "cell_type": "code",
      "source": [
        "from sklearn.linear_model import LogisticRegression\n",
        "log_reg = LogisticRegression(max_iter=10000)\n",
        "\n",
        "log_reg.fit(X_train,y_train)\n",
        "\n",
        "\n",
        "y_pred_train = log_reg.predict(X_train)\n",
        "y_pred_test  = log_reg.predict(X_test)"
      ],
      "metadata": {
        "id": "SR0aeV1dd4Yi"
      },
      "execution_count": null,
      "outputs": []
    },
    {
      "cell_type": "code",
      "source": [
        "y_pred_train"
      ],
      "metadata": {
        "id": "wA9a21FJeKLT"
      },
      "execution_count": null,
      "outputs": []
    },
    {
      "cell_type": "code",
      "source": [
        "y_pred_test"
      ],
      "metadata": {
        "id": "R9RGYoFYeNab"
      },
      "execution_count": null,
      "outputs": []
    },
    {
      "cell_type": "markdown",
      "source": [
        "**Logistic Regression: Confusion Matrix**"
      ],
      "metadata": {
        "id": "jc3qvKGBeRNI"
      }
    },
    {
      "cell_type": "code",
      "source": [
        "from sklearn.metrics import confusion_matrix\n",
        "\n",
        "cm_train = confusion_matrix(y_train, y_pred_train)\n",
        "cm_train"
      ],
      "metadata": {
        "id": "HyjbgbXVeZli"
      },
      "execution_count": null,
      "outputs": []
    },
    {
      "cell_type": "code",
      "source": [
        "from sklearn.metrics import plot_confusion_matrix\n",
        "plot_confusion_matrix(log_reg, X_train, y_train)  \n",
        "plt.show()"
      ],
      "metadata": {
        "id": "q_XDSAgtefbD"
      },
      "execution_count": null,
      "outputs": []
    },
    {
      "cell_type": "code",
      "source": [
        "tn, fp, fn, tp = confusion_matrix(y_train,y_pred_train).ravel()\n",
        "print(\"TP:\" , tp)\n",
        "print(\"FN:\" , fn)\n",
        "print(\"FP:\" , fp)\n",
        "print(\"TN:\" , tn)"
      ],
      "metadata": {
        "id": "bCmkHmFHepH6"
      },
      "execution_count": null,
      "outputs": []
    },
    {
      "cell_type": "code",
      "source": [
        "from sklearn.metrics import f1_score\n",
        "from sklearn.metrics import accuracy_score\n",
        "from sklearn.metrics import recall_score\n",
        "from sklearn.metrics import precision_score\n",
        "y_true = y_test\n",
        "y_pred = y_pred_test\n",
        "\n",
        "acc_sc = accuracy_score(y_true, y_pred)\n",
        "f1_sc=  f1_score(y_true, y_pred)\n",
        "re_sc = recall_score(y_true, y_pred)\n",
        "pr_sc = precision_score(y_true, y_pred)\n",
        "\n",
        "print(\"Recall :\", re_sc)\n",
        "print(\"Precision :\", pr_sc)\n",
        "print(\"F1 Score : \", f1_sc)\n",
        "print(\"Accuracy:\",acc_sc)"
      ],
      "metadata": {
        "id": "6EdT5O4PetA7"
      },
      "execution_count": null,
      "outputs": []
    },
    {
      "cell_type": "markdown",
      "source": [
        "**Random Forest Classifier**"
      ],
      "metadata": {
        "id": "QGYuu_66e7pM"
      }
    },
    {
      "cell_type": "code",
      "source": [
        "from sklearn.ensemble import RandomForestClassifier\n",
        "rf = RandomForestClassifier(n_estimators=1000)\n",
        "rf.fit(X_train,y_train)\n",
        "y_pred_train = rf.predict(X_train)\n",
        "y_pred_test  = rf.predict(X_test)\n",
        "acc_sc = accuracy_score(y_true, y_pred)\n",
        "acc_sc"
      ],
      "metadata": {
        "id": "0IOjJTyIe6HM"
      },
      "execution_count": null,
      "outputs": []
    },
    {
      "cell_type": "code",
      "source": [
        "tn, fp, fn, tp = confusion_matrix(y_test,y_pred_test).ravel()\n",
        "print(\"TP:\" , tp)\n",
        "print(\"FN:\" , fn)\n",
        "print(\"FP:\" , fp)\n",
        "print(\"TN:\" , tn)\n",
        "\n",
        "accuracy = (tp + tn)/(tp+tn+fp+fn)\n",
        "\n",
        "# test \n",
        "\n",
        "y_true = y_test\n",
        "y_pred = y_pred_test\n",
        "\n",
        "acc_sc = accuracy_score(y_true, y_pred)\n",
        "f1_sc=  f1_score(y_true, y_pred)\n",
        "re_sc = recall_score(y_true, y_pred)\n",
        "pr_sc = precision_score(y_true, y_pred)\n",
        "\n",
        "print(\"Recall :\", re_sc)\n",
        "print(\"Precision :\", pr_sc)\n",
        "print(\"F1 Score : \", f1_sc)\n",
        "print(\"Accuracy:\",acc_sc)"
      ],
      "metadata": {
        "id": "qMIsHLaUfUCi"
      },
      "execution_count": null,
      "outputs": []
    },
    {
      "cell_type": "code",
      "source": [
        "tn, fp, fn, tp = confusion_matrix(y_train,y_pred_train).ravel()\n",
        "print(\"TP:\" , tp)\n",
        "print(\"FN:\" , fn)\n",
        "print(\"FP:\" , fp)\n",
        "print(\"TN:\" , tn)"
      ],
      "metadata": {
        "id": "kNoQEe3kfboT"
      },
      "execution_count": null,
      "outputs": []
    },
    {
      "cell_type": "markdown",
      "source": [
        "**Decision Tree**"
      ],
      "metadata": {
        "id": "rwCc4d3DfoDr"
      }
    },
    {
      "cell_type": "code",
      "source": [
        "from sklearn.tree import DecisionTreeClassifier\n",
        "clf = DecisionTreeClassifier(criterion = 'entropy', random_state= 23) # what should be code--> criterion: entropy\n",
        "clf = clf.fit(X_train,y_train)\n",
        "\n",
        "y_pred = clf.predict(X_test)\n",
        "acc_sc1 = accuracy_score(y_true, y_pred)\n",
        "print(acc_sc1)"
      ],
      "metadata": {
        "id": "t765zeHmfqXb"
      },
      "execution_count": null,
      "outputs": []
    },
    {
      "cell_type": "code",
      "source": [
        "tn, fp, fn, tp = confusion_matrix(y_test,y_pred).ravel()\n",
        "print(\"TP:\" , tp)\n",
        "print(\"FN:\" , fn)\n",
        "print(\"FP:\" , fp)\n",
        "print(\"TN:\" , tn)"
      ],
      "metadata": {
        "id": "ZOuuxC_Ff1Kj"
      },
      "execution_count": null,
      "outputs": []
    },
    {
      "cell_type": "code",
      "source": [
        "acc_sc = accuracy_score(y_true, y_pred)\n",
        "f1_sc=  f1_score(y_true, y_pred)\n",
        "re_sc = recall_score(y_true, y_pred)\n",
        "pr_sc = precision_score(y_true, y_pred)\n",
        "\n",
        "print(\"Recall :\", re_sc)\n",
        "print(\"Precision :\", pr_sc)\n",
        "print(\"F1 Score : \", f1_sc)\n",
        "print(\"Accuracy:\",acc_sc)"
      ],
      "metadata": {
        "id": "DdhFDFeaf3UE"
      },
      "execution_count": null,
      "outputs": []
    },
    {
      "cell_type": "markdown",
      "source": [
        "**XGBoost**"
      ],
      "metadata": {
        "id": "BoVoEzR9i6wd"
      }
    },
    {
      "cell_type": "code",
      "source": [
        "from xgboost import XGBClassifier\n",
        "model = XGBClassifier()\n",
        "model.fit(X_train, y_train)\n",
        "y_pred = model.predict(X_test)\n",
        "acc_sc1 = accuracy_score(y_true, y_pred)\n",
        "print(acc_sc1)"
      ],
      "metadata": {
        "id": "6lhtozwEi9Qj"
      },
      "execution_count": null,
      "outputs": []
    },
    {
      "cell_type": "code",
      "source": [
        "tn, fp, fn, tp = confusion_matrix(y_test,y_pred).ravel()\n",
        "print(\"TP:\" , tp)\n",
        "print(\"FN:\" , fn)\n",
        "print(\"FP:\" , fp)\n",
        "print(\"TN:\" , tn)"
      ],
      "metadata": {
        "id": "lrZbv0FhjCRz"
      },
      "execution_count": null,
      "outputs": []
    },
    {
      "cell_type": "code",
      "source": [
        "acc_sc = accuracy_score(y_true, y_pred)\n",
        "f1_sc=  f1_score(y_true, y_pred)\n",
        "re_sc = recall_score(y_true, y_pred)\n",
        "pr_sc = precision_score(y_true, y_pred)\n",
        "\n",
        "print(\"Recall :\", re_sc)\n",
        "print(\"Precision :\", pr_sc)\n",
        "print(\"F1 Score : \", f1_sc)\n",
        "print(\"Accuracy:\",acc_sc)"
      ],
      "metadata": {
        "id": "f6boDZWtjJYr"
      },
      "execution_count": null,
      "outputs": []
    },
    {
      "cell_type": "markdown",
      "source": [
        "**Grid Search**"
      ],
      "metadata": {
        "id": "25CI8jLPjRpk"
      }
    },
    {
      "cell_type": "code",
      "source": [
        "from sklearn.model_selection import GridSearchCV\n",
        "algorithm = RandomForestClassifier()\n",
        "gridSearchParams ={\n",
        "            'n_estimators': [100, 200, 500],\n",
        "             'criterion' : ['gini', 'entropy']\n",
        "        }\n",
        "cv = 5\n",
        "# cross validation --> ? \n",
        "\n",
        "grid = GridSearchCV(estimator=algorithm, param_grid=gridSearchParams, cv=cv, scoring='accuracy',  verbose=5)\n",
        "    \n",
        "    \n",
        "\n",
        "grid_result = grid.fit(X_train, y_train)\n",
        "best_params = grid_result.best_params_"
      ],
      "metadata": {
        "id": "DYMfjhCUjXtM"
      },
      "execution_count": null,
      "outputs": []
    },
    {
      "cell_type": "code",
      "source": [
        "y_pred = grid_result.predict(X_test)\n",
        "tn, fp, fn, tp = confusion_matrix(y_test,y_pred).ravel()\n",
        "print(\"TP:\" , tp)\n",
        "print(\"FN:\" , fn)\n",
        "print(\"FP:\" , fp)\n",
        "print(\"TN:\" , tn)"
      ],
      "metadata": {
        "id": "TaX0yRxijsAL"
      },
      "execution_count": null,
      "outputs": []
    },
    {
      "cell_type": "code",
      "source": [
        "acc_sc = accuracy_score(y_true, y_pred)\n",
        "f1_sc=  f1_score(y_true, y_pred)\n",
        "re_sc = recall_score(y_true, y_pred)\n",
        "pr_sc = precision_score(y_true, y_pred)\n",
        "\n",
        "print(\"Recall :\", re_sc)\n",
        "print(\"Precision :\", pr_sc)\n",
        "print(\"F1 Score : \", f1_sc)\n",
        "print(\"Accuracy:\",acc_sc)"
      ],
      "metadata": {
        "id": "Aa0QL2sRjwDr"
      },
      "execution_count": null,
      "outputs": []
    },
    {
      "cell_type": "code",
      "source": [
        "\n",
        "from sklearn.model_selection import GridSearchCV, RandomizedSearchCV\n",
        "algorithm = RandomForestClassifier()\n",
        "gridSearchParams ={\n",
        "            'n_estimators': [100, 200, 500],\n",
        "             'criterion' : ['gini', 'entropy']\n",
        "        }\n",
        "cv = 5\n",
        "# cross validation --> ? \n",
        "\n",
        "grid = RandomizedSearchCV(algorithm, gridSearchParams)\n",
        "    \n",
        "    \n",
        "\n",
        "grid_result = grid.fit(X_train, y_train)\n"
      ],
      "metadata": {
        "id": "d-bCdyW4j7JM"
      },
      "execution_count": null,
      "outputs": []
    },
    {
      "cell_type": "code",
      "source": [
        "best_params = grid_result.best_params_"
      ],
      "metadata": {
        "id": "JpyQTjxdnQzV"
      },
      "execution_count": null,
      "outputs": []
    },
    {
      "cell_type": "code",
      "source": [
        "from sklearn import svm\n",
        "clf = svm.SVC(kernel = 'linear')\n",
        "clf.fit(X_train, y_train)\n",
        "y_pred = clf.predict(X_test)\n",
        "acc_sc1 = accuracy_score(y_true, y_pred)\n",
        "print(acc_sc1)"
      ],
      "metadata": {
        "id": "aaMgnpTXnTss"
      },
      "execution_count": null,
      "outputs": []
    },
    {
      "cell_type": "code",
      "source": [
        "tn, fp, fn, tp = confusion_matrix(y_test,y_pred).ravel()\n",
        "print(\"TP:\" , tp)\n",
        "print(\"FN:\" , fn)\n",
        "print(\"FP:\" , fp)\n",
        "print(\"TN:\" , tn)"
      ],
      "metadata": {
        "id": "jAU5ZWJ_nXu8"
      },
      "execution_count": null,
      "outputs": []
    },
    {
      "cell_type": "code",
      "source": [
        "acc_sc = accuracy_score(y_true, y_pred)\n",
        "f1_sc=  f1_score(y_true, y_pred)\n",
        "re_sc = recall_score(y_true, y_pred)\n",
        "pr_sc = precision_score(y_true, y_pred)\n",
        "\n",
        "print(\"Recall :\", re_sc)\n",
        "print(\"Precision :\", pr_sc)\n",
        "print(\"F1 Score : \", f1_sc)\n",
        "print(\"Accuracy:\",acc_sc)"
      ],
      "metadata": {
        "id": "-JMPPp91nbkc"
      },
      "execution_count": null,
      "outputs": []
    },
    {
      "cell_type": "markdown",
      "source": [
        "**KNN**"
      ],
      "metadata": {
        "id": "A-IYT_R0OjqK"
      }
    },
    {
      "cell_type": "code",
      "source": [
        "from sklearn.neighbors import KNeighborsClassifier  \n",
        "classifier= KNeighborsClassifier(n_neighbors=5, metric='minkowski', p=2 )  \n",
        "classifier.fit(X_train, y_train)  \n",
        "y_pred= classifier.predict(X_test)  "
      ],
      "metadata": {
        "id": "enftdLj5Q5m8"
      },
      "execution_count": null,
      "outputs": []
    },
    {
      "cell_type": "code",
      "source": [
        "    from sklearn.metrics import confusion_matrix  \n",
        "    cm= confusion_matrix(y_test, y_pred)  "
      ],
      "metadata": {
        "id": "I17FoWR5RHej"
      },
      "execution_count": null,
      "outputs": []
    },
    {
      "cell_type": "code",
      "source": [
        "y_true = y_test\n",
        "y_pred = y_pred_test\n",
        "\n",
        "acc_sc = accuracy_score(y_true, y_pred)\n",
        "f1_sc=  f1_score(y_true, y_pred)\n",
        "re_sc = recall_score(y_true, y_pred)\n",
        "pr_sc = precision_score(y_true, y_pred)\n",
        "\n",
        "print(\"Recall :\", re_sc)\n",
        "print(\"Precision :\", pr_sc)\n",
        "print(\"F1 Score : \", f1_sc)\n",
        "print(\"Accuracy:\",acc_sc)"
      ],
      "metadata": {
        "id": "waxXF-H7RR90"
      },
      "execution_count": null,
      "outputs": []
    }
  ]
}